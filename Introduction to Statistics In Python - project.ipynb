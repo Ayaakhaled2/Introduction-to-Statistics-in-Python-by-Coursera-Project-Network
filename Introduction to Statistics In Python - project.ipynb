{
 "cells": [
  {
   "cell_type": "raw",
   "id": "73d23b89",
   "metadata": {},
   "source": [
    "MIn and Max  - Observation \n",
    "Min : lowest value \n",
    "Max : highest value \n",
    "Observation : how many values (Data points) are present in your data or subset of data \n",
    "Mean : sum of all values / total num of values \n",
    "Median : Middle value in total values \n",
    "Range : difference between Min and Max Value \n",
    "STD : square root of variance \n",
    "variance : indicator of how much variability in the data , how much the data is spread out \n",
    "correlation : how two variable are related to each other \n",
    "correlation coefficient between ( 1 , -1 ) the closer to that is better correlation \n",
    "scatterplot is one of the viz tha show the correlation\n",
    "\n",
    "\n",
    "Python statistics libarary \n",
    "https://docs.python.org/3/library/statistics.html\n",
    "\n",
    "Statistics backage is great fo running basic basic statistical analysis for your dataset "
   ]
  },
  {
   "cell_type": "code",
   "execution_count": 17,
   "id": "0ae7b0b7",
   "metadata": {},
   "outputs": [],
   "source": [
    "import statistics as s\n",
    "import numpy as np"
   ]
  },
  {
   "cell_type": "code",
   "execution_count": 18,
   "id": "9eaadc70",
   "metadata": {},
   "outputs": [],
   "source": [
    "arr_x = [2,2,5,8,5,6,8,5,10]"
   ]
  },
  {
   "cell_type": "code",
   "execution_count": 19,
   "id": "75078b77",
   "metadata": {},
   "outputs": [],
   "source": [
    "mean_arrx = s.mean(arr_x)"
   ]
  },
  {
   "cell_type": "code",
   "execution_count": 20,
   "id": "d34247a7",
   "metadata": {},
   "outputs": [
    {
     "data": {
      "text/plain": [
       "5.666666666666667"
      ]
     },
     "execution_count": 20,
     "metadata": {},
     "output_type": "execute_result"
    }
   ],
   "source": [
    "mean_arrx"
   ]
  },
  {
   "cell_type": "code",
   "execution_count": 21,
   "id": "6be9f8fc",
   "metadata": {},
   "outputs": [
    {
     "data": {
      "text/plain": [
       "5.666666666666667"
      ]
     },
     "execution_count": 21,
     "metadata": {},
     "output_type": "execute_result"
    }
   ],
   "source": [
    "np.mean(arr_x)"
   ]
  },
  {
   "cell_type": "code",
   "execution_count": 23,
   "id": "8e2a1478",
   "metadata": {},
   "outputs": [],
   "source": [
    "median_arrx = s.median(arr_x)"
   ]
  },
  {
   "cell_type": "code",
   "execution_count": 24,
   "id": "0e426782",
   "metadata": {},
   "outputs": [
    {
     "data": {
      "text/plain": [
       "5"
      ]
     },
     "execution_count": 24,
     "metadata": {},
     "output_type": "execute_result"
    }
   ],
   "source": [
    "median_arrx"
   ]
  },
  {
   "cell_type": "code",
   "execution_count": 25,
   "id": "e686868d",
   "metadata": {},
   "outputs": [
    {
     "data": {
      "text/plain": [
       "5.0"
      ]
     },
     "execution_count": 25,
     "metadata": {},
     "output_type": "execute_result"
    }
   ],
   "source": [
    "np.median(arr_x)"
   ]
  },
  {
   "cell_type": "code",
   "execution_count": null,
   "id": "bcd4f259",
   "metadata": {},
   "outputs": [],
   "source": [
    "# not all functions will return identical rsults  ( statistinc.mean np.mean , statistic.std np.std )"
   ]
  },
  {
   "cell_type": "code",
   "execution_count": 26,
   "id": "b53ccc42",
   "metadata": {},
   "outputs": [],
   "source": [
    "import pandas as pd \n",
    "import matplotlib.pyplot as plt"
   ]
  },
  {
   "cell_type": "code",
   "execution_count": 27,
   "id": "985cfe83",
   "metadata": {},
   "outputs": [],
   "source": [
    "df = pd.read_csv('players.csv')"
   ]
  },
  {
   "cell_type": "code",
   "execution_count": 28,
   "id": "9f2d4562",
   "metadata": {},
   "outputs": [
    {
     "data": {
      "text/html": [
       "<div>\n",
       "<style scoped>\n",
       "    .dataframe tbody tr th:only-of-type {\n",
       "        vertical-align: middle;\n",
       "    }\n",
       "\n",
       "    .dataframe tbody tr th {\n",
       "        vertical-align: top;\n",
       "    }\n",
       "\n",
       "    .dataframe thead th {\n",
       "        text-align: right;\n",
       "    }\n",
       "</style>\n",
       "<table border=\"1\" class=\"dataframe\">\n",
       "  <thead>\n",
       "    <tr style=\"text-align: right;\">\n",
       "      <th></th>\n",
       "      <th>player</th>\n",
       "      <th>salary</th>\n",
       "      <th>rating</th>\n",
       "      <th>teams</th>\n",
       "    </tr>\n",
       "  </thead>\n",
       "  <tbody>\n",
       "    <tr>\n",
       "      <th>0</th>\n",
       "      <td>Arnoldo Harvey</td>\n",
       "      <td>125</td>\n",
       "      <td>1</td>\n",
       "      <td>blue</td>\n",
       "    </tr>\n",
       "    <tr>\n",
       "      <th>1</th>\n",
       "      <td>Petra Michael</td>\n",
       "      <td>155</td>\n",
       "      <td>1</td>\n",
       "      <td>green</td>\n",
       "    </tr>\n",
       "    <tr>\n",
       "      <th>2</th>\n",
       "      <td>Tammie Porter</td>\n",
       "      <td>323</td>\n",
       "      <td>2</td>\n",
       "      <td>blue</td>\n",
       "    </tr>\n",
       "    <tr>\n",
       "      <th>3</th>\n",
       "      <td>Socorro Tucker</td>\n",
       "      <td>272</td>\n",
       "      <td>2</td>\n",
       "      <td>blue</td>\n",
       "    </tr>\n",
       "    <tr>\n",
       "      <th>4</th>\n",
       "      <td>Elroy Murillo</td>\n",
       "      <td>157</td>\n",
       "      <td>2</td>\n",
       "      <td>blue</td>\n",
       "    </tr>\n",
       "  </tbody>\n",
       "</table>\n",
       "</div>"
      ],
      "text/plain": [
       "           player  salary  rating  teams\n",
       "0  Arnoldo Harvey     125       1   blue\n",
       "1   Petra Michael     155       1  green\n",
       "2   Tammie Porter     323       2   blue\n",
       "3  Socorro Tucker     272       2   blue\n",
       "4   Elroy Murillo     157       2   blue"
      ]
     },
     "execution_count": 28,
     "metadata": {},
     "output_type": "execute_result"
    }
   ],
   "source": [
    "df.head()"
   ]
  },
  {
   "cell_type": "code",
   "execution_count": 29,
   "id": "8d723334",
   "metadata": {},
   "outputs": [],
   "source": [
    "# get a quick summery of the dataset "
   ]
  },
  {
   "cell_type": "code",
   "execution_count": 30,
   "id": "0a7e99de",
   "metadata": {},
   "outputs": [
    {
     "data": {
      "text/html": [
       "<div>\n",
       "<style scoped>\n",
       "    .dataframe tbody tr th:only-of-type {\n",
       "        vertical-align: middle;\n",
       "    }\n",
       "\n",
       "    .dataframe tbody tr th {\n",
       "        vertical-align: top;\n",
       "    }\n",
       "\n",
       "    .dataframe thead th {\n",
       "        text-align: right;\n",
       "    }\n",
       "</style>\n",
       "<table border=\"1\" class=\"dataframe\">\n",
       "  <thead>\n",
       "    <tr style=\"text-align: right;\">\n",
       "      <th></th>\n",
       "      <th>salary</th>\n",
       "      <th>rating</th>\n",
       "    </tr>\n",
       "  </thead>\n",
       "  <tbody>\n",
       "    <tr>\n",
       "      <th>count</th>\n",
       "      <td>20.000000</td>\n",
       "      <td>20.000000</td>\n",
       "    </tr>\n",
       "    <tr>\n",
       "      <th>mean</th>\n",
       "      <td>530.550000</td>\n",
       "      <td>4.950000</td>\n",
       "    </tr>\n",
       "    <tr>\n",
       "      <th>std</th>\n",
       "      <td>276.579574</td>\n",
       "      <td>2.762055</td>\n",
       "    </tr>\n",
       "    <tr>\n",
       "      <th>min</th>\n",
       "      <td>125.000000</td>\n",
       "      <td>1.000000</td>\n",
       "    </tr>\n",
       "    <tr>\n",
       "      <th>25%</th>\n",
       "      <td>315.250000</td>\n",
       "      <td>2.750000</td>\n",
       "    </tr>\n",
       "    <tr>\n",
       "      <th>50%</th>\n",
       "      <td>441.000000</td>\n",
       "      <td>4.000000</td>\n",
       "    </tr>\n",
       "    <tr>\n",
       "      <th>75%</th>\n",
       "      <td>800.000000</td>\n",
       "      <td>7.000000</td>\n",
       "    </tr>\n",
       "    <tr>\n",
       "      <th>max</th>\n",
       "      <td>966.000000</td>\n",
       "      <td>10.000000</td>\n",
       "    </tr>\n",
       "  </tbody>\n",
       "</table>\n",
       "</div>"
      ],
      "text/plain": [
       "           salary     rating\n",
       "count   20.000000  20.000000\n",
       "mean   530.550000   4.950000\n",
       "std    276.579574   2.762055\n",
       "min    125.000000   1.000000\n",
       "25%    315.250000   2.750000\n",
       "50%    441.000000   4.000000\n",
       "75%    800.000000   7.000000\n",
       "max    966.000000  10.000000"
      ]
     },
     "execution_count": 30,
     "metadata": {},
     "output_type": "execute_result"
    }
   ],
   "source": [
    "df.describe()"
   ]
  },
  {
   "cell_type": "code",
   "execution_count": 31,
   "id": "290178f9",
   "metadata": {},
   "outputs": [
    {
     "data": {
      "text/plain": [
       "Index(['player', 'salary', 'rating', 'teams'], dtype='object')"
      ]
     },
     "execution_count": 31,
     "metadata": {},
     "output_type": "execute_result"
    }
   ],
   "source": [
    "df.columns"
   ]
  },
  {
   "cell_type": "code",
   "execution_count": 32,
   "id": "7fcc0ba8",
   "metadata": {},
   "outputs": [
    {
     "data": {
      "text/plain": [
       "count     20.000000\n",
       "mean     530.550000\n",
       "std      276.579574\n",
       "min      125.000000\n",
       "25%      315.250000\n",
       "50%      441.000000\n",
       "75%      800.000000\n",
       "max      966.000000\n",
       "Name: salary, dtype: float64"
      ]
     },
     "execution_count": 32,
     "metadata": {},
     "output_type": "execute_result"
    }
   ],
   "source": [
    "df['salary'].describe()"
   ]
  },
  {
   "cell_type": "code",
   "execution_count": 33,
   "id": "d184852e",
   "metadata": {},
   "outputs": [
    {
     "data": {
      "text/plain": [
       "76496.2605263158"
      ]
     },
     "execution_count": 33,
     "metadata": {},
     "output_type": "execute_result"
    }
   ],
   "source": [
    "df['salary'].var()"
   ]
  },
  {
   "cell_type": "code",
   "execution_count": 37,
   "id": "2ea439b6",
   "metadata": {},
   "outputs": [],
   "source": [
    "# find the correlation between salary of player and the rating of the player \n",
    "\n",
    "salary = df['salary']\n",
    "rate = df['rating']\n",
    "corrrelation = salary.corr(rate)"
   ]
  },
  {
   "cell_type": "code",
   "execution_count": 38,
   "id": "22beafaf",
   "metadata": {},
   "outputs": [
    {
     "data": {
      "text/plain": [
       "0.9612748378992164"
      ]
     },
     "execution_count": 38,
     "metadata": {},
     "output_type": "execute_result"
    }
   ],
   "source": [
    "corrrelation"
   ]
  },
  {
   "cell_type": "code",
   "execution_count": 39,
   "id": "501d6bb2",
   "metadata": {},
   "outputs": [],
   "source": [
    "corrrelation = rate.corr(salary)"
   ]
  },
  {
   "cell_type": "code",
   "execution_count": 40,
   "id": "286e03b2",
   "metadata": {},
   "outputs": [
    {
     "data": {
      "text/plain": [
       "0.9612748378992163"
      ]
     },
     "execution_count": 40,
     "metadata": {},
     "output_type": "execute_result"
    }
   ],
   "source": [
    "corrrelation"
   ]
  },
  {
   "cell_type": "code",
   "execution_count": 41,
   "id": "cf0b6269",
   "metadata": {},
   "outputs": [],
   "source": [
    "#when the output the correlation close to 1 this indicate strong positive corrleation "
   ]
  },
  {
   "cell_type": "code",
   "execution_count": 42,
   "id": "c56d6bba",
   "metadata": {},
   "outputs": [
    {
     "data": {
      "text/html": [
       "<div>\n",
       "<style scoped>\n",
       "    .dataframe tbody tr th:only-of-type {\n",
       "        vertical-align: middle;\n",
       "    }\n",
       "\n",
       "    .dataframe tbody tr th {\n",
       "        vertical-align: top;\n",
       "    }\n",
       "\n",
       "    .dataframe thead th {\n",
       "        text-align: right;\n",
       "    }\n",
       "</style>\n",
       "<table border=\"1\" class=\"dataframe\">\n",
       "  <thead>\n",
       "    <tr style=\"text-align: right;\">\n",
       "      <th></th>\n",
       "      <th>salary</th>\n",
       "      <th>rating</th>\n",
       "    </tr>\n",
       "  </thead>\n",
       "  <tbody>\n",
       "    <tr>\n",
       "      <th>salary</th>\n",
       "      <td>1.000000</td>\n",
       "      <td>0.961275</td>\n",
       "    </tr>\n",
       "    <tr>\n",
       "      <th>rating</th>\n",
       "      <td>0.961275</td>\n",
       "      <td>1.000000</td>\n",
       "    </tr>\n",
       "  </tbody>\n",
       "</table>\n",
       "</div>"
      ],
      "text/plain": [
       "          salary    rating\n",
       "salary  1.000000  0.961275\n",
       "rating  0.961275  1.000000"
      ]
     },
     "execution_count": 42,
     "metadata": {},
     "output_type": "execute_result"
    }
   ],
   "source": [
    "df.corr()"
   ]
  },
  {
   "cell_type": "code",
   "execution_count": 43,
   "id": "380596f8",
   "metadata": {},
   "outputs": [],
   "source": [
    "#find the correkation in the dataset \n",
    "\n",
    "# the more numerical data columns you have the larger the metrix you will get \n",
    "\n",
    "# corr between dtype : numeric columns "
   ]
  },
  {
   "cell_type": "code",
   "execution_count": 44,
   "id": "3985f67a",
   "metadata": {},
   "outputs": [],
   "source": [
    "# you can run statistical functions (some) on non numerical data ( value_counts , describe )"
   ]
  },
  {
   "cell_type": "code",
   "execution_count": 45,
   "id": "9a8b23f3",
   "metadata": {},
   "outputs": [
    {
     "data": {
      "text/plain": [
       "Index(['player', 'salary', 'rating', 'teams'], dtype='object')"
      ]
     },
     "execution_count": 45,
     "metadata": {},
     "output_type": "execute_result"
    }
   ],
   "source": [
    "df.columns"
   ]
  },
  {
   "cell_type": "code",
   "execution_count": 48,
   "id": "acb3a624",
   "metadata": {},
   "outputs": [
    {
     "data": {
      "text/plain": [
       "count                    20\n",
       "unique                   20\n",
       "top       Celeste Dominguez\n",
       "freq                      1\n",
       "Name: player, dtype: object"
      ]
     },
     "execution_count": 48,
     "metadata": {},
     "output_type": "execute_result"
    }
   ],
   "source": [
    "df['player'].describe()"
   ]
  },
  {
   "cell_type": "code",
   "execution_count": 49,
   "id": "bfae671c",
   "metadata": {},
   "outputs": [],
   "source": [
    "# desribe has a different behaviour deoend on the type of data ( numeric , non numeric)"
   ]
  },
  {
   "cell_type": "code",
   "execution_count": 50,
   "id": "f0597373",
   "metadata": {},
   "outputs": [],
   "source": [
    "## visualize the data "
   ]
  },
  {
   "cell_type": "code",
   "execution_count": 51,
   "id": "70bc821b",
   "metadata": {},
   "outputs": [],
   "source": [
    "# if you want to show the range of your data : boxplot "
   ]
  },
  {
   "cell_type": "code",
   "execution_count": 53,
   "id": "3f5756b9",
   "metadata": {},
   "outputs": [
    {
     "data": {
      "text/plain": [
       "<AxesSubplot:>"
      ]
     },
     "execution_count": 53,
     "metadata": {},
     "output_type": "execute_result"
    },
    {
     "data": {
      "image/png": "[encoded data removed]",
      "text/plain": [
       "<Figure size 432x288 with 1 Axes>"
      ]
     },
     "metadata": {
      "needs_background": "light"
     },
     "output_type": "display_data"
    }
   ],
   "source": [
    "df.boxplot(column='salary')"
   ]
  },
  {
   "cell_type": "code",
   "execution_count": 54,
   "id": "7ebd18bf",
   "metadata": {},
   "outputs": [
    {
     "data": {
      "text/plain": [
       "<AxesSubplot:>"
      ]
     },
     "execution_count": 54,
     "metadata": {},
     "output_type": "execute_result"
    },
    {
     "data": {
      "image/png": "[encoded data removed]",
      "text/plain": [
       "<Figure size 432x288 with 1 Axes>"
      ]
     },
     "metadata": {
      "needs_background": "light"
     },
     "output_type": "display_data"
    }
   ],
   "source": [
    "df.boxplot(column= ['salary' , 'rating'])"
   ]
  },
  {
   "cell_type": "code",
   "execution_count": 55,
   "id": "38990143",
   "metadata": {},
   "outputs": [
    {
     "data": {
      "text/plain": [
       "<AxesSubplot:>"
      ]
     },
     "execution_count": 55,
     "metadata": {},
     "output_type": "execute_result"
    },
    {
     "data": {
      "image/png": "[encoded data removed]",
      "text/plain": [
       "<Figure size 432x288 with 1 Axes>"
      ]
     },
     "metadata": {
      "needs_background": "light"
     },
     "output_type": "display_data"
    }
   ],
   "source": [
    "# run boxplot of all possible numeric data in the dataset \n",
    "\n",
    "df.boxplot()"
   ]
  },
  {
   "cell_type": "code",
   "execution_count": 56,
   "id": "a4ee71db",
   "metadata": {},
   "outputs": [],
   "source": [
    "#because the scale is different in both columns , it would be better to run each one f them separately"
   ]
  },
  {
   "cell_type": "code",
   "execution_count": 57,
   "id": "ca85e718",
   "metadata": {},
   "outputs": [
    {
     "data": {
      "text/plain": [
       "<AxesSubplot:>"
      ]
     },
     "execution_count": 57,
     "metadata": {},
     "output_type": "execute_result"
    },
    {
     "data": {
      "image/png": "[encoded data removed]",
      "text/plain": [
       "<Figure size 432x288 with 1 Axes>"
      ]
     },
     "metadata": {
      "needs_background": "light"
     },
     "output_type": "display_data"
    }
   ],
   "source": [
    "df.boxplot('rating')"
   ]
  },
  {
   "cell_type": "code",
   "execution_count": 58,
   "id": "b2b4bd0b",
   "metadata": {},
   "outputs": [],
   "source": [
    "# we can Customize the labels, colors and look of by  matplotlib"
   ]
  },
  {
   "cell_type": "code",
   "execution_count": 59,
   "id": "7f6eb494",
   "metadata": {},
   "outputs": [],
   "source": [
    "# scatter plot is good to show the correlation "
   ]
  },
  {
   "cell_type": "code",
   "execution_count": 60,
   "id": "de3c0b92",
   "metadata": {},
   "outputs": [
    {
     "data": {
      "text/plain": [
       "<AxesSubplot:xlabel='salary', ylabel='rating'>"
      ]
     },
     "execution_count": 60,
     "metadata": {},
     "output_type": "execute_result"
    },
    {
     "data": {
      "image/png": "[encoded data removed]",
      "text/plain": [
       "<Figure size 432x288 with 1 Axes>"
      ]
     },
     "metadata": {
      "needs_background": "light"
     },
     "output_type": "display_data"
    }
   ],
   "source": [
    "df.plot.scatter(x = 'salary', y = 'rating')"
   ]
  },
  {
   "cell_type": "code",
   "execution_count": 62,
   "id": "93f21f6a",
   "metadata": {},
   "outputs": [
    {
     "data": {
      "text/plain": [
       "<AxesSubplot:xlabel='rating', ylabel='salary'>"
      ]
     },
     "execution_count": 62,
     "metadata": {},
     "output_type": "execute_result"
    },
    {
     "data": {
      "image/png": "[encoded data removed]",
      "text/plain": [
       "<Figure size 432x288 with 1 Axes>"
      ]
     },
     "metadata": {
      "needs_background": "light"
     },
     "output_type": "display_data"
    }
   ],
   "source": [
    "df.plot.scatter(x = 'rating', y = 'salary')"
   ]
  },
  {
   "cell_type": "code",
   "execution_count": 63,
   "id": "bda82474",
   "metadata": {},
   "outputs": [
    {
     "data": {
      "text/plain": [
       "Index(['player', 'salary', 'rating', 'teams'], dtype='object')"
      ]
     },
     "execution_count": 63,
     "metadata": {},
     "output_type": "execute_result"
    }
   ],
   "source": [
    "df.columns"
   ]
  },
  {
   "cell_type": "code",
   "execution_count": 64,
   "id": "a3be9a4e",
   "metadata": {},
   "outputs": [
    {
     "data": {
      "text/plain": [
       "0       blue\n",
       "1      green\n",
       "2       blue\n",
       "3       blue\n",
       "4       blue\n",
       "5       blue\n",
       "6     yellow\n",
       "7     yellow\n",
       "8     yellow\n",
       "9     yellow\n",
       "10    yellow\n",
       "11       red\n",
       "12     green\n",
       "13       red\n",
       "14       red\n",
       "15       red\n",
       "16     green\n",
       "17     green\n",
       "18     green\n",
       "19       red\n",
       "Name: teams, dtype: object"
      ]
     },
     "execution_count": 64,
     "metadata": {},
     "output_type": "execute_result"
    }
   ],
   "source": [
    "df.teams"
   ]
  },
  {
   "cell_type": "code",
   "execution_count": 70,
   "id": "e12db7d4",
   "metadata": {},
   "outputs": [
    {
     "data": {
      "text/plain": [
       "<AxesSubplot:ylabel='None'>"
      ]
     },
     "execution_count": 70,
     "metadata": {},
     "output_type": "execute_result"
    },
    {
     "data": {
      "image/png": "[encoded data removed]",
      "text/plain": [
       "<Figure size 432x288 with 1 Axes>"
      ]
     },
     "metadata": {},
     "output_type": "display_data"
    }
   ],
   "source": [
    "df.groupby('teams').size().plot(kind = 'pie')"
   ]
  },
  {
   "cell_type": "code",
   "execution_count": null,
   "id": "0a57d3f6",
   "metadata": {},
   "outputs": [],
   "source": []
  }
 ],
 "metadata": {
  "kernelspec": {
   "display_name": "Python 3",
   "language": "python",
   "name": "python3"
  },
  "language_info": {
   "codemirror_mode": {
    "name": "ipython",
    "version": 3
   },
   "file_extension": ".py",
   "mimetype": "text/x-python",
   "name": "python",
   "nbconvert_exporter": "python",
   "pygments_lexer": "ipython3",
   "version": "3.8.8"
  }
 },
 "nbformat": 4,
 "nbformat_minor": 5
}
